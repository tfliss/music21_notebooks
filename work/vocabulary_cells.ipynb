{
 "cells": [
  {
   "cell_type": "code",
   "execution_count": 2,
   "metadata": {},
   "outputs": [
    {
     "data": {
      "image/png": "[encoded data removed]",
      "text/plain": [
       "<IPython.core.display.Image object>"
      ]
     },
     "metadata": {
      "image/png": {
       "height": 59,
       "width": 268
      }
     },
     "output_type": "display_data"
    }
   ],
   "source": [
    "from music21 import converter, interval, pitch, note, stream, meter, articulations\n",
    "import re\n",
    "import copy\n",
    "\n",
    "scores = dict()\n",
    "\n",
    "cells = [\n",
    "    \"c d e c\",\n",
    "    \"c d e- c\",\n",
    "    \"c d- e- c\",\n",
    "    \"c d# e c\",\n",
    "    \"c d- e c\",\n",
    "    \"c d- d c\"\n",
    "]\n",
    "\n",
    "def cell_transform(cell_string, mode=[]):    \n",
    "    notes = cell_string.split(' ')\n",
    "    duration_match = re.match(r'^((\\w)([b\\-#])?)(\\d+)?.*', notes[0])\n",
    "    first_note = duration_match[1]\n",
    "    dur = duration_match[4]\n",
    "    notes[0] = first_note\n",
    "\n",
    "    intervals = []\n",
    "    \n",
    "    octave = \"4\"\n",
    "\n",
    "    for n in notes:\n",
    "        args = [\n",
    "            note.Note(first_note + octave),\n",
    "            note.Note(n + octave)\n",
    "        ]\n",
    "        if 'inversion' in mode:\n",
    "            args.reverse()\n",
    "            \n",
    "        inter = interval.Interval(*args)\n",
    "            \n",
    "        intervals.append(inter)\n",
    "\n",
    "    if 'retrograde' in mode:\n",
    "        intervals.reverse()\n",
    "    \n",
    "    reverse_notes = []\n",
    "\n",
    "    for i in intervals:\n",
    "        next_note = note.Note(first_note + octave, quarterLength=0.5)\n",
    "        reverse_notes.append(\n",
    "            i.transposeNote(next_note)\n",
    "        )\n",
    "\n",
    "    #return ' '.join(notes)\n",
    "    return reverse_notes\n",
    "\n",
    "music_stream = stream.Stream()\n",
    "for n in cells[1].split(' '):\n",
    "    music_stream.append(note.Note(n))\n",
    "\n",
    "transformed_stream = stream.Stream()\n",
    "for n in cell_transform(cells[0], mode=['retrograde', 'inversion']):\n",
    "    transformed_stream.append(n)\n",
    "\n",
    "transformed_stream.notes[1].beams.fill(1, 'continue')\n",
    "transformed_stream.notes[0].articulations.append(articulations.Accent())\n",
    "\n",
    "transformed_stream.show()"
   ]
  },
  {
   "cell_type": "code",
   "execution_count": 7,
   "metadata": {},
   "outputs": [
    {
     "data": {
      "image/png": "[encoded data removed]",
      "text/plain": [
       "<IPython.core.display.Image object>"
      ]
     },
     "metadata": {
      "image/png": {
       "height": 59,
       "width": 748
      }
     },
     "output_type": "display_data"
    }
   ],
   "source": [
    "s = stream.Stream()\n",
    "s.append(meter.TimeSignature('4/4'))\n",
    "\n",
    "progression = 'cgdeabf'\n",
    "\n",
    "for l in progression:\n",
    "    intervl = interval.Interval(note.Note('c'), note.Note(l))\n",
    "    s.append(transformed_stream.transpose(intervl))\n",
    "\n",
    "s = s.makeMeasures()\n",
    "s.show()\n"
   ]
  },
  {
   "cell_type": "code",
   "execution_count": 10,
   "metadata": {
    "scrolled": false
   },
   "outputs": [
    {
     "data": {
      "text/html": [
       "\n",
       "                <div id='midiPlayerDiv6413'></div>\n",
       "                <link rel=\"stylesheet\" href=\"//cuthbertLab.github.io/music21j/css/m21.css\"\n",
       "                    type=\"text/css\" />\n",
       "                <script>\n",
       "                require.config({\n",
       "                    paths: {'music21': '//cuthbertLab.github.io/music21j/src/music21'}\n",
       "                });\n",
       "                require(['music21'], function() {\n",
       "                               mp = new music21.miditools.MidiPlayer();\n",
       "                               mp.addPlayer('#midiPlayerDiv6413');\n",
       "                               mp.base64Load('data:audio/midi;base64,TVRoZAAAAAYAAQABBABNVHJrAAABEQD/AwAA4ABAAP9YBAQCGAgAkDxnhACAPAAAkDhahACAOAAAkDpahACAOgAAkDxahACAPAAAkENnhACAQwAAkD9ahACAPwAAkEFahACAQQAAkENahACAQwAAkD5nhACAPgAAkDpahACAOgAAkDxahACAPAAAkD5ahACAPgAAkEBnhACAQAAAkDxahACAPAAAkD5ahACAPgAAkEBahACAQAAAkEVnhACARQAAkEFahACAQQAAkENahACAQwAAkEVahACARQAAkEdnhACARwAAkENahACAQwAAkEVahACARQAAkEdahACARwAAkEFnhACAQQAAkD1ahACAPQAAkD9ahACAPwAAkEFahACAQQCIAP8vAA==');\n",
       "                        });\n",
       "                </script>"
      ],
      "text/plain": [
       "<IPython.core.display.HTML object>"
      ]
     },
     "metadata": {},
     "output_type": "display_data"
    }
   ],
   "source": [
    "s.show('midi')"
   ]
  },
  {
   "cell_type": "code",
   "execution_count": null,
   "metadata": {},
   "outputs": [],
   "source": []
  },
  {
   "cell_type": "code",
   "execution_count": null,
   "metadata": {},
   "outputs": [],
   "source": []
  }
 ],
 "metadata": {
  "kernelspec": {
   "display_name": "Python 3",
   "language": "python",
   "name": "python3"
  }
 },
 "nbformat": 4,
 "nbformat_minor": 2
}
